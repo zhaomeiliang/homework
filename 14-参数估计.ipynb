{
 "cells": [
  {
   "cell_type": "code",
   "execution_count": 1,
   "metadata": {},
   "outputs": [],
   "source": [
    "import pandas as pd\n",
    "from scipy import stats\n",
    "# 打开数据文件\n",
    "file_path = R\"data\\movie_data_cleaned.csv\"\n",
    "df_movies = pd.read_csv(file_path)"
   ]
  },
  {
   "cell_type": "code",
   "execution_count": 2,
   "metadata": {},
   "outputs": [
    {
     "name": "stdout",
     "output_type": "stream",
     "text": [
      "均值： 7.20\n",
      "均值在置信水平0.95下的置信区间为： (7.171337577138237, 7.2214184794700635)\n"
     ]
    }
   ],
   "source": [
    "# 计算均值和标准误差\n",
    "mean = df_movies['average'].mean()\n",
    "std_error = stats.sem(df_movies['average'])\n",
    "# 设定置信水平\n",
    "confidence_level = 0.95\n",
    "# 设定自由度\n",
    "df = len(df_movies['average']) - 1\n",
    "# 计算置信区间\n",
    "confidence_interval = stats.t.interval(confidence_level, df, loc=mean, scale=std_error)\n",
    "# 输出结果\n",
    "print(F\"均值：{mean: .2f}\")\n",
    "print(F\"均值在置信水平{confidence_level}下的置信区间为：\", confidence_interval)"
   ]
  },
  {
   "cell_type": "code",
   "execution_count": 14,
   "metadata": {},
   "outputs": [
    {
     "name": "stdout",
     "output_type": "stream",
     "text": [
      "      Unnamed: 0  average         country                     genre  \\\n",
      "6811        7811      9.0            中国大陆  ['剧情', '爱情', '古装', '戏曲']   \n",
      "2721        2748      8.4              美国        ['喜剧', '动画', '冒险']   \n",
      "8220       10297      6.2            中国香港                    ['科幻']   \n",
      "763          765      8.9            中国大陆                    ['剧情']   \n",
      "5165        5532      7.6              美国  ['剧情', '悬疑', '惊悚', '犯罪']   \n",
      "...          ...      ...             ...                       ...   \n",
      "482          483      7.3              美国              ['奇幻', '冒险']   \n",
      "1401        1405      8.5            中国香港              ['剧情', '家庭']   \n",
      "2580        2606      7.7              美国  ['剧情', '动作', '惊悚', '灾难']   \n",
      "1143        1146      7.1   美国 / 加拿大 / 德国              ['惊悚', '恐怖']   \n",
      "1786        1796      6.8            中国香港              ['剧情', '爱情']   \n",
      "\n",
      "       language release_date                        title     votes  \n",
      "6811      汉语普通话         1962                          红楼梦    3124.0  \n",
      "2721         英语   2007-07-27     辛普森一家 The Simpsons Movie   73644.0  \n",
      "8220         粤语   1988-03-10              铁甲无敌玛利亚 鐵甲無敵瑪利亞    2481.0  \n",
      "763       汉语普通话         1983                         城南旧事   65365.0  \n",
      "5165         英语   2007-06-01            布鲁克斯先生 Mr. Brooks   27894.0  \n",
      "...         ...          ...                          ...       ...  \n",
      "482          英语   2010-03-26  爱丽丝梦游仙境 Alice in Wonderland  327379.0  \n",
      "1401         粤语   1989-03-16                        阿郎的故事   90508.0  \n",
      "2580         英语   2010-11-09             危情时速 Unstoppable   52095.0  \n",
      "1143         英语   2006-02-10    死神来了3 Final Destination 3  121944.0  \n",
      "1786   粤语 / 普通话   2008-06-19                           文雀   43818.0  \n",
      "\n",
      "[834 rows x 8 columns]\n"
     ]
    }
   ],
   "source": [
    "# 使用sample函数实现随机抽取\n",
    "import pandas as pd \n",
    "# 读取数据  \n",
    "data = pd.read_csv('data\\movie_data_cleaned.csv') \n",
    "# 从数据框中随机抽取10%的样本  \n",
    "sample = data.sample(frac=0.1)\n",
    "# 打印样本  \n",
    "print(sample)\n"
   ]
  },
  {
   "cell_type": "code",
   "execution_count": 15,
   "metadata": {},
   "outputs": [
    {
     "name": "stdout",
     "output_type": "stream",
     "text": [
      "样本均值： 7.201079136690647\n",
      "样本均值在置信水平0.95下的置信区间为：(7.1240333439839185, 7.278124929397376)\n"
     ]
    }
   ],
   "source": [
    "# 再计算抽取样本的均值和置信区间\n",
    "import pandas as pd\n",
    "import numpy as np\n",
    "from scipy import stats \n",
    "# 打开数据文件  \n",
    "file_path = \"data/movie_data_cleaned.csv\"\n",
    "df = pd.read_csv(file_path) \n",
    "# 从数据框中随机抽取10%的样本  \n",
    "sample = df.sample(frac=0.1) \n",
    "# 计算样本均值  \n",
    "mean = sample['average'].mean() \n",
    "# 计算标准误差  \n",
    "std_error = stats.sem(sample['average'])\n",
    "# 设定置信水平  \n",
    "confidence_level = 0.95\n",
    "# 设定自由度  \n",
    "degrees_freedom = len(sample['average']) - 1\n",
    "# 计算置信区间  \n",
    "confidence_interval = stats.t.interval(confidence_level, degrees_freedom, loc=mean, scale=std_error) \n",
    "# 输出结果  \n",
    "print(\"样本均值：\", mean)\n",
    "print(\"样本均值在置信水平{:.2f}下的置信区间为：{}\".format(confidence_level, confidence_interval))"
   ]
  }
 ],
 "metadata": {
  "kernelspec": {
   "display_name": "Python 3",
   "language": "python",
   "name": "python3"
  },
  "language_info": {
   "codemirror_mode": {
    "name": "ipython",
    "version": 3
   },
   "file_extension": ".py",
   "mimetype": "text/x-python",
   "name": "python",
   "nbconvert_exporter": "python",
   "pygments_lexer": "ipython3",
   "version": "3.8.10"
  }
 },
 "nbformat": 4,
 "nbformat_minor": 2
}

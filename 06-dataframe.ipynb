{
 "cells": [
  {
   "cell_type": "code",
   "execution_count": 50,
   "metadata": {},
   "outputs": [],
   "source": [
    "import pandas as pd\n",
    "gzmt = pd.read_csv(R'data\\600519.csv')"
   ]
  },
  {
   "cell_type": "code",
   "execution_count": 51,
   "metadata": {},
   "outputs": [
    {
     "name": "stdout",
     "output_type": "stream",
     "text": [
      "<class 'pandas.core.frame.DataFrame'>\n",
      "RangeIndex: 4094 entries, 0 to 4093\n",
      "Data columns (total 8 columns):\n",
      " #   Column      Non-Null Count  Dtype  \n",
      "---  ------      --------------  -----  \n",
      " 0   day         4094 non-null   object \n",
      " 1   STOCK_CODE  4094 non-null   int64  \n",
      " 2   open        4094 non-null   float64\n",
      " 3   close       4094 non-null   float64\n",
      " 4   maximum     4094 non-null   float64\n",
      " 5   minimum     4094 non-null   float64\n",
      " 6   volume      4094 non-null   int64  \n",
      " 7   TURNOVER    4094 non-null   int64  \n",
      "dtypes: float64(4), int64(3), object(1)\n",
      "memory usage: 256.0+ KB\n"
     ]
    }
   ],
   "source": [
    "gzmt.info()"
   ]
  },
  {
   "cell_type": "code",
   "execution_count": 52,
   "metadata": {},
   "outputs": [
    {
     "data": {
      "text/html": [
       "<div>\n",
       "<style scoped>\n",
       "    .dataframe tbody tr th:only-of-type {\n",
       "        vertical-align: middle;\n",
       "    }\n",
       "\n",
       "    .dataframe tbody tr th {\n",
       "        vertical-align: top;\n",
       "    }\n",
       "\n",
       "    .dataframe thead th {\n",
       "        text-align: right;\n",
       "    }\n",
       "</style>\n",
       "<table border=\"1\" class=\"dataframe\">\n",
       "  <thead>\n",
       "    <tr style=\"text-align: right;\">\n",
       "      <th></th>\n",
       "      <th>STOCK_CODE</th>\n",
       "      <th>open</th>\n",
       "      <th>close</th>\n",
       "      <th>maximum</th>\n",
       "      <th>minimum</th>\n",
       "      <th>volume</th>\n",
       "      <th>TURNOVER</th>\n",
       "    </tr>\n",
       "  </thead>\n",
       "  <tbody>\n",
       "    <tr>\n",
       "      <th>count</th>\n",
       "      <td>4094.0</td>\n",
       "      <td>4094.000000</td>\n",
       "      <td>4094.000000</td>\n",
       "      <td>4094.000000</td>\n",
       "      <td>4094.000000</td>\n",
       "      <td>4094.000000</td>\n",
       "      <td>4.094000e+03</td>\n",
       "    </tr>\n",
       "    <tr>\n",
       "      <th>mean</th>\n",
       "      <td>6005191.0</td>\n",
       "      <td>182.161910</td>\n",
       "      <td>182.435230</td>\n",
       "      <td>184.879680</td>\n",
       "      <td>179.801353</td>\n",
       "      <td>27092.525892</td>\n",
       "      <td>6.487986e+08</td>\n",
       "    </tr>\n",
       "    <tr>\n",
       "      <th>std</th>\n",
       "      <td>0.0</td>\n",
       "      <td>165.857882</td>\n",
       "      <td>165.994905</td>\n",
       "      <td>168.082099</td>\n",
       "      <td>163.752065</td>\n",
       "      <td>24623.472099</td>\n",
       "      <td>9.550262e+08</td>\n",
       "    </tr>\n",
       "    <tr>\n",
       "      <th>min</th>\n",
       "      <td>6005191.0</td>\n",
       "      <td>20.900000</td>\n",
       "      <td>20.880000</td>\n",
       "      <td>21.000000</td>\n",
       "      <td>20.710000</td>\n",
       "      <td>238.000000</td>\n",
       "      <td>1.421413e+06</td>\n",
       "    </tr>\n",
       "    <tr>\n",
       "      <th>25%</th>\n",
       "      <td>6005191.0</td>\n",
       "      <td>47.405000</td>\n",
       "      <td>47.482500</td>\n",
       "      <td>48.222500</td>\n",
       "      <td>46.705000</td>\n",
       "      <td>10186.750000</td>\n",
       "      <td>6.203505e+07</td>\n",
       "    </tr>\n",
       "    <tr>\n",
       "      <th>50%</th>\n",
       "      <td>6005191.0</td>\n",
       "      <td>159.930000</td>\n",
       "      <td>159.980000</td>\n",
       "      <td>161.910000</td>\n",
       "      <td>157.875000</td>\n",
       "      <td>22491.000000</td>\n",
       "      <td>3.727192e+08</td>\n",
       "    </tr>\n",
       "    <tr>\n",
       "      <th>75%</th>\n",
       "      <td>6005191.0</td>\n",
       "      <td>208.500000</td>\n",
       "      <td>209.457500</td>\n",
       "      <td>212.175000</td>\n",
       "      <td>205.945000</td>\n",
       "      <td>36759.500000</td>\n",
       "      <td>7.486596e+08</td>\n",
       "    </tr>\n",
       "    <tr>\n",
       "      <th>max</th>\n",
       "      <td>6005191.0</td>\n",
       "      <td>800.000000</td>\n",
       "      <td>799.190000</td>\n",
       "      <td>803.500000</td>\n",
       "      <td>788.880000</td>\n",
       "      <td>406318.000000</td>\n",
       "      <td>1.066339e+10</td>\n",
       "    </tr>\n",
       "  </tbody>\n",
       "</table>\n",
       "</div>"
      ],
      "text/plain": [
       "       STOCK_CODE         open        close      maximum      minimum  \\\n",
       "count      4094.0  4094.000000  4094.000000  4094.000000  4094.000000   \n",
       "mean    6005191.0   182.161910   182.435230   184.879680   179.801353   \n",
       "std           0.0   165.857882   165.994905   168.082099   163.752065   \n",
       "min     6005191.0    20.900000    20.880000    21.000000    20.710000   \n",
       "25%     6005191.0    47.405000    47.482500    48.222500    46.705000   \n",
       "50%     6005191.0   159.930000   159.980000   161.910000   157.875000   \n",
       "75%     6005191.0   208.500000   209.457500   212.175000   205.945000   \n",
       "max     6005191.0   800.000000   799.190000   803.500000   788.880000   \n",
       "\n",
       "              volume      TURNOVER  \n",
       "count    4094.000000  4.094000e+03  \n",
       "mean    27092.525892  6.487986e+08  \n",
       "std     24623.472099  9.550262e+08  \n",
       "min       238.000000  1.421413e+06  \n",
       "25%     10186.750000  6.203505e+07  \n",
       "50%     22491.000000  3.727192e+08  \n",
       "75%     36759.500000  7.486596e+08  \n",
       "max    406318.000000  1.066339e+10  "
      ]
     },
     "execution_count": 52,
     "metadata": {},
     "output_type": "execute_result"
    }
   ],
   "source": [
    "gzmt.describe()"
   ]
  },
  {
   "cell_type": "code",
   "execution_count": 53,
   "metadata": {},
   "outputs": [
    {
     "data": {
      "text/html": [
       "<div>\n",
       "<style scoped>\n",
       "    .dataframe tbody tr th:only-of-type {\n",
       "        vertical-align: middle;\n",
       "    }\n",
       "\n",
       "    .dataframe tbody tr th {\n",
       "        vertical-align: top;\n",
       "    }\n",
       "\n",
       "    .dataframe thead th {\n",
       "        text-align: right;\n",
       "    }\n",
       "</style>\n",
       "<table border=\"1\" class=\"dataframe\">\n",
       "  <thead>\n",
       "    <tr style=\"text-align: right;\">\n",
       "      <th></th>\n",
       "      <th>open</th>\n",
       "      <th>close</th>\n",
       "    </tr>\n",
       "  </thead>\n",
       "  <tbody>\n",
       "    <tr>\n",
       "      <th>count</th>\n",
       "      <td>4094.000000</td>\n",
       "      <td>4094.000000</td>\n",
       "    </tr>\n",
       "    <tr>\n",
       "      <th>mean</th>\n",
       "      <td>182.161910</td>\n",
       "      <td>182.435230</td>\n",
       "    </tr>\n",
       "    <tr>\n",
       "      <th>std</th>\n",
       "      <td>165.857882</td>\n",
       "      <td>165.994905</td>\n",
       "    </tr>\n",
       "    <tr>\n",
       "      <th>min</th>\n",
       "      <td>20.900000</td>\n",
       "      <td>20.880000</td>\n",
       "    </tr>\n",
       "    <tr>\n",
       "      <th>25%</th>\n",
       "      <td>47.405000</td>\n",
       "      <td>47.482500</td>\n",
       "    </tr>\n",
       "    <tr>\n",
       "      <th>50%</th>\n",
       "      <td>159.930000</td>\n",
       "      <td>159.980000</td>\n",
       "    </tr>\n",
       "    <tr>\n",
       "      <th>75%</th>\n",
       "      <td>208.500000</td>\n",
       "      <td>209.457500</td>\n",
       "    </tr>\n",
       "    <tr>\n",
       "      <th>max</th>\n",
       "      <td>800.000000</td>\n",
       "      <td>799.190000</td>\n",
       "    </tr>\n",
       "  </tbody>\n",
       "</table>\n",
       "</div>"
      ],
      "text/plain": [
       "              open        close\n",
       "count  4094.000000  4094.000000\n",
       "mean    182.161910   182.435230\n",
       "std     165.857882   165.994905\n",
       "min      20.900000    20.880000\n",
       "25%      47.405000    47.482500\n",
       "50%     159.930000   159.980000\n",
       "75%     208.500000   209.457500\n",
       "max     800.000000   799.190000"
      ]
     },
     "execution_count": 53,
     "metadata": {},
     "output_type": "execute_result"
    }
   ],
   "source": [
    "gzmt[['open','close']].describe()"
   ]
  },
  {
   "cell_type": "code",
   "execution_count": 54,
   "metadata": {},
   "outputs": [],
   "source": [
    "result = gzmt['open'].unique()"
   ]
  },
  {
   "cell_type": "code",
   "execution_count": 55,
   "metadata": {},
   "outputs": [],
   "source": [
    "result2 = gzmt.close.value_counts()"
   ]
  },
  {
   "cell_type": "code",
   "execution_count": 56,
   "metadata": {},
   "outputs": [
    {
     "data": {
      "text/plain": [
       "name\n",
       "A     4\n",
       "B     5\n",
       "C    12\n",
       "Name: value, dtype: int64"
      ]
     },
     "execution_count": 56,
     "metadata": {},
     "output_type": "execute_result"
    }
   ],
   "source": [
    "df = pd.DataFrame({\n",
    "    \"name\":[\"A\",\"B\",\"C\",\"B\",\"C\",\"A\",\"C\"],\n",
    "    \"value\":[1,3,7,2,4,3,1]\n",
    "})\n",
    "df.groupby(\"name\")[\"value\"].sum()"
   ]
  },
  {
   "cell_type": "code",
   "execution_count": 57,
   "metadata": {},
   "outputs": [
    {
     "data": {
      "text/plain": [
       "<pandas.core.groupby.generic.SeriesGroupBy object at 0x000001B8162F4CD0>"
      ]
     },
     "execution_count": 57,
     "metadata": {},
     "output_type": "execute_result"
    }
   ],
   "source": [
    "df = pd.DataFrame({\n",
    "    \"name\":[\"A\",\"B\",\"C\",\"B\",\"C\",\"A\",\"C\"],\n",
    "    \"value\":[1,3,7,2,4,3,1]\n",
    "})\n",
    "df.groupby(\"name\")[\"value\"]"
   ]
  },
  {
   "cell_type": "code",
   "execution_count": 58,
   "metadata": {},
   "outputs": [
    {
     "name": "stdout",
     "output_type": "stream",
     "text": [
      "0    90\n",
      "1    85\n",
      "4    88\n",
      "Name: 一班, dtype: int64\n",
      "2    78\n",
      "3    92\n",
      "Name: 二班, dtype: int64\n",
      "班级\n",
      "一班    None\n",
      "二班    None\n",
      "Name: 成绩, dtype: object\n"
     ]
    }
   ],
   "source": [
    "data = {'姓名':['张三','李四','王五','赵六','孙七'],\n",
    "        '年龄':[18,19,20,18,19],\n",
    "        '班级':['一班','一班','二班','二班','一班'],\n",
    "        '成绩':[90,85,78,92,88]}\n",
    "\n",
    "df = pd.DataFrame(data)\n",
    "\n",
    "def average_score(group):\n",
    "    print(group)\n",
    "\n",
    "    #return group['成绩'].mean()\n",
    "\n",
    "result = df.groupby('班级')['成绩'].apply(average_score)\n",
    "print(result)"
   ]
  },
  {
   "cell_type": "code",
   "execution_count": 59,
   "metadata": {},
   "outputs": [],
   "source": [
    "result = df.groupby('班级')['成绩'].min()"
   ]
  },
  {
   "cell_type": "code",
   "execution_count": 60,
   "metadata": {},
   "outputs": [
    {
     "data": {
      "image/png": "[encoded data removed]",
      "text/plain": [
       "<Figure size 640x480 with 1 Axes>"
      ]
     },
     "metadata": {},
     "output_type": "display_data"
    }
   ],
   "source": [
    "import matplotlib.pyplot as plt\n",
    "import numpy as np\n",
    "\n",
    "\n",
    "x=np.linspace(0,2*np.pi,100)\n",
    "y=np.sin(x)\n",
    "\n",
    "fig, ax = plt.subplots()\n",
    "ax.plot(x,y)\n",
    "plt.show()\n"
   ]
  },
  {
   "cell_type": "code",
   "execution_count": 61,
   "metadata": {},
   "outputs": [
    {
     "data": {
      "image/png": "[encoded data removed]",
      "text/plain": [
       "<Figure size 640x480 with 1 Axes>"
      ]
     },
     "metadata": {},
     "output_type": "display_data"
    }
   ],
   "source": [
    "x = [1,2,3,4]\n",
    "y = [1,4,2,3]\n",
    "fig, ax=plt.subplots()\n",
    "ax.plot(x,y)\n",
    "ax.set_xlabel('entry a')\n",
    "ax.set_ylabel('entry b')\n",
    "plt.show()"
   ]
  },
  {
   "cell_type": "code",
   "execution_count": 62,
   "metadata": {},
   "outputs": [
    {
     "data": {
      "image/png": "[encoded data removed]",
      "text/plain": [
       "<Figure size 640x480 with 1 Axes>"
      ]
     },
     "metadata": {},
     "output_type": "display_data"
    }
   ],
   "source": [
    "plt.rcParams[\"font.sans-serif\"]=[\"SimHei\"]#设置字体\n",
    "plt.rcParams[\"axes.unicode_minus\"]=False #正常显示负号\n",
    "year = [2017,2018,2019,2020]\n",
    "people = [20,40,60,70]\n",
    "#生成图表\n",
    "plt.plot(year,people)\n",
    "plt.xlabel('年份')\n",
    "plt.ylabel('人口')\n",
    "plt.title('人口增长')\n",
    "#设置纵坐标刻度\n",
    "# plt.yticks([0,20,40,60,80])\n",
    "#设置填充选项：参数分别对应横坐标，纵坐标，纵坐标填充起始值，填充颜色\n",
    "plt.fill_between(year,people,20,color = 'green')\n",
    "#显示图表\n",
    "plt.show()"
   ]
  }
 ],
 "metadata": {
  "kernelspec": {
   "display_name": "Python 3",
   "language": "python",
   "name": "python3"
  },
  "language_info": {
   "codemirror_mode": {
    "name": "ipython",
    "version": 3
   },
   "file_extension": ".py",
   "mimetype": "text/x-python",
   "name": "python",
   "nbconvert_exporter": "python",
   "pygments_lexer": "ipython3",
   "version": "3.8.10"
  }
 },
 "nbformat": 4,
 "nbformat_minor": 2
}

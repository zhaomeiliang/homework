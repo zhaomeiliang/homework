{
 "cells": [
  {
   "cell_type": "code",
   "execution_count": 3,
   "metadata": {},
   "outputs": [],
   "source": [
    "def get_repo_by_name(name,data):\n",
    "    for i in data:\n",
    "        if i[\"姓名\"]==name:\n",
    "            print(i[\"github仓库地址\"])"
   ]
  },
  {
   "cell_type": "code",
   "execution_count": 5,
   "metadata": {},
   "outputs": [],
   "source": [
    "student_info = [  \n",
    "    {  \n",
    "        \"姓名\": \"张三\",  \n",
    "        \"学号\": \"20230001\",  \n",
    "        \"github地址\": \"https://github.com/zhangsan/\"  \n",
    "    }  \n",
    "]"
   ]
  }
 ],
 "metadata": {
  "kernelspec": {
   "display_name": "Python 3",
   "language": "python",
   "name": "python3"
  },
  "language_info": {
   "codemirror_mode": {
    "name": "ipython",
    "version": 3
   },
   "file_extension": ".py",
   "mimetype": "text/x-python",
   "name": "python",
   "nbconvert_exporter": "python",
   "pygments_lexer": "ipython3",
   "version": "3.8.10"
  },
  "orig_nbformat": 4
 },
 "nbformat": 4,
 "nbformat_minor": 2
}

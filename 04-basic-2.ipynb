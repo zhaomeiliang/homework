{
 "cells": [
  {
   "cell_type": "code",
   "execution_count": 57,
   "metadata": {},
   "outputs": [],
   "source": [
    "def get_repo_by_name(name,data):\n",
    "    for i in data:\n",
    "        if i[\"姓名\"]==name:\n",
    "            print(i[\"github仓库地址\"])"
   ]
  },
  {
   "cell_type": "code",
   "execution_count": 58,
   "metadata": {},
   "outputs": [],
   "source": [
    "students = [  \n",
    "    {\"姓名\": \"张三\", \"学号\": \"20230101\", \"github的仓库地址\": \"https://github.com/zhangsan/repo1\"},  \n",
    "    {\"姓名\": \"李四\", \"学号\": \"20230102\", \"github的仓库地址\": \"https://github.com/lisi/repo2\"},  \n",
    "    {\"姓名\": \"王五\", \"学号\": \"20230103\", \"github的仓库地址\": \"https://github.com/wangwu/repo3\"},  \n",
    "    {\"姓名\": \"赵六\", \"学号\": \"20230104\", \"github的仓库地址\": \"https://github.com/zhaoliu/repo4\"},  \n",
    "    {\"姓名\": \"孙七\", \"学号\": \"20230105\", \"github的仓库地址\": \"https://github.com/sunqi/repo5\"}  \n",
    "]"
   ]
  },
  {
   "cell_type": "code",
   "execution_count": 64,
   "metadata": {},
   "outputs": [
    {
     "name": "stdout",
     "output_type": "stream",
     "text": [
      "找到指定姓名同学的Github仓库地址:https://github.com/zhangsan/repo1\n"
     ]
    }
   ],
   "source": [
    "target_name = \"张三\"  # 指定姓名  \n",
    "  \n",
    "for student in student_repos:  \n",
    "    if student[\"姓名\"] == target_name:  \n",
    "        print(f\"找到指定姓名同学的Github仓库地址:{student['github的仓库地址']}\")  \n",
    "        break  # 找到匹配项目后退出循环 \n",
    "else: # 如果没有找到匹配项，执行下面的代码块  \n",
    "    print(f\"没有找到指定姓名同学的信息\")"
   ]
  },
  {
   "cell_type": "code",
   "execution_count": 69,
   "metadata": {},
   "outputs": [],
   "source": [
    "def get_repo_by_name(name,data):\n",
    "    for i in data:\n",
    "        if i['姓名'] == name:\n",
    "            print(i[\"gitHub仓库地址\",\"students\"])"
   ]
  },
  {
   "cell_type": "code",
   "execution_count": 6,
   "metadata": {},
   "outputs": [
    {
     "ename": "NameError",
     "evalue": "name 'get_repo_by_name' is not defined",
     "output_type": "error",
     "traceback": [
      "\u001b[1;31m---------------------------------------------------------------------------\u001b[0m",
      "\u001b[1;31mNameError\u001b[0m                                 Traceback (most recent call last)",
      "\u001b[1;32mc:\\Users\\赵美亮\\Desktop\\homework\\04-basic-2.ipynb 单元格 5\u001b[0m line \u001b[0;36m1\n\u001b[1;32m----> <a href='vscode-notebook-cell:/c%3A/Users/%E8%B5%B5%E7%BE%8E%E4%BA%AE/Desktop/homework/04-basic-2.ipynb#W4sZmlsZQ%3D%3D?line=0'>1</a>\u001b[0m get_repo_by_name(name\u001b[39m=\u001b[39m\u001b[39m'\u001b[39m\u001b[39m张三\u001b[39m\u001b[39m'\u001b[39m,data\u001b[39m=\u001b[39mstudents)\n",
      "\u001b[1;31mNameError\u001b[0m: name 'get_repo_by_name' is not defined"
     ]
    }
   ],
   "source": [
    "get_repo_by_name(name='张三',data=students)"
   ]
  },
  {
   "cell_type": "code",
   "execution_count": 7,
   "metadata": {},
   "outputs": [
    {
     "ename": "SyntaxError",
     "evalue": "invalid syntax (314992296.py, line 1)",
     "output_type": "error",
     "traceback": [
      "\u001b[1;36m  Cell \u001b[1;32mIn[7], line 1\u001b[1;36m\u001b[0m\n\u001b[1;33m    def函数名称(参数1='',参数2=''):\u001b[0m\n\u001b[1;37m                           ^\u001b[0m\n\u001b[1;31mSyntaxError\u001b[0m\u001b[1;31m:\u001b[0m invalid syntax\n"
     ]
    }
   ],
   "source": [
    "def函数名称(参数1='',参数2=''):\n",
    "print(参数1,参数2)"
   ]
  }
 ],
 "metadata": {
  "kernelspec": {
   "display_name": "Python 3",
   "language": "python",
   "name": "python3"
  },
  "language_info": {
   "codemirror_mode": {
    "name": "ipython",
    "version": 3
   },
   "file_extension": ".py",
   "mimetype": "text/x-python",
   "name": "python",
   "nbconvert_exporter": "python",
   "pygments_lexer": "ipython3",
   "version": "3.8.10"
  },
  "orig_nbformat": 4
 },
 "nbformat": 4,
 "nbformat_minor": 2
}
